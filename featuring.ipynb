{
 "cells": [
  {
   "cell_type": "code",
   "execution_count": 3,
   "metadata": {
    "collapsed": true
   },
   "outputs": [],
   "source": [
    "# #######################################################################\n",
    "# Imports\n",
    "import logging\n",
    "import os\n",
    "import pandas as pd\n",
    "from sklearn.ensemble import RandomForestClassifier\n",
    "from sklearn.preprocessing import label\n",
    "from matplotlib import pyplot as plt\n",
    "from numpy.fft import fft\n",
    "import numpy as np\n",
    "import scipy.fftpack\n",
    "from scipy.signal import blackman\n",
    "from pprint import pprint\n",
    "\n",
    "\n",
    "\n",
    "# #######################################################################\n",
    "# #######################       Parameters        #######################\n",
    "# #######################################################################\n",
    "DEBUG = 2\n",
    "SKIP_BEG_SEC = 1        # remove what happens when the recording on the smartphone is started and put into pocket\n",
    "SKIP_END_SEC = 1        # same, for the end, when removed from pocket\n",
    "SKIP_CHANGE_SEC = 0.8     # same, between transitions\n",
    "THRESHOLD = 1         # threshold to cut the data\n",
    "LABELS = {\"none\": -1, \"standing\": 0,\n",
    "          \"walk_rested\": 1, \"walk_tired\": 2, \"walk_very_tired\": 3}\n",
    "\n"
   ]
  },
  {
   "cell_type": "code",
   "execution_count": 4,
   "metadata": {
    "collapsed": true
   },
   "outputs": [],
   "source": [
    "\n",
    "# #######################################################################\n",
    "# #######################         load CSV        #######################\n",
    "# #######################################################################\n",
    "def load_csv(file_name):\n",
    "    # Get read of first line (sep=;) when reading the csv file\n",
    "    data = pd.read_csv(file_name, sep=\";\", skiprows=1, index_col=None)\n",
    "    data[\"labels\"] = LABELS[\"none\"]\n",
    "    return data\n"
   ]
  },
  {
   "cell_type": "code",
   "execution_count": 5,
   "metadata": {
    "collapsed": true
   },
   "outputs": [],
   "source": [
    "# #######################################################################\n",
    "# #######################       main function     #######################\n",
    "# #######################################################################\n",
    "def clean_data(data, tiredness_state):\n",
    "    # Set the datetime as index\n",
    "    data.date_time = pd.to_datetime(data[\"date_time\"], format='%Y-%m-%d %H:%M:%S:%f')\n",
    "    # data[\"index\"] = range(data.shape[0])\n",
    "    # data.set_index(\"index\")\n",
    "    # time_ms converted into seconds\n",
    "    data.time_ms = data.time_ms / 1000\n",
    "    # find total time, sampling frequency\n",
    "    logging.debug(f'starts at {data[\"date_time\"][0]}, ends at {data[\"date_time\"].iloc[-1]}')\n",
    "    total_time = (data[\"date_time\"].iloc[-1] - data[\"date_time\"][0])\n",
    "    frequency = int(round(len(data) / total_time.seconds, 0))\n",
    "    logging.debug(len(data))\n",
    "    logging.debug(frequency)\n",
    "\n",
    "\n",
    "    # #######################################################################\n",
    "    # #####################       PRINT AND PLOT       ######################\n",
    "    # #######################################################################\n",
    "    logging.info(\"Printing section\")\n",
    "    # Print some stuff\n",
    "    if DEBUG > 6:\n",
    "        print(data.head())\n",
    "        print(data.columns)\n",
    "        print(data.dtypes)\n",
    "\n",
    "\n",
    "    # Plotting\n",
    "    if DEBUG > 7:\n",
    "        columns = [\"acc_x\", \"acc_y\", \"acc_z\", \"grav_x\", \"grav_y\", \"grav_z\",\n",
    "                   \"lin_acc_x\", \"lin_acc_y\", \"lin_acc_z\",\n",
    "                   \"gyro_x\", \"gyro_y\", \"gyro_z\",\n",
    "                   \"mag_x\", \"mag_y\", \"mag_z\", \"sound_lvl\", ]\n",
    "        col_to_plot = [\"acc_x\", \"acc_y\", \"acc_z\", \"gyro_x\", \"gyro_y\", \"gyro_z\", \"mag_x\", \"mag_y\", \"mag_z\", ]\n",
    "        plt.figure(f\"{index}- ROW data\")\n",
    "        plt.plot(data.time_ms, data[col_to_plot])\n",
    "        plt.legend(col_to_plot)\n",
    "        plt.tight_layout()\n",
    "        plt.show()\n",
    "\n",
    "\n",
    "\n",
    "    # #######################################################################\n",
    "    # #######################         FEATURES        #######################\n",
    "    # #######################################################################\n",
    "    logging.info(\"Feature engineering section\")\n",
    "\n",
    "    # window filter\n",
    "    # add each difference on a 0.2 sec window\n",
    "    # if that sum of noise is low, cut before, define it as standing state.\n",
    "    # If DEBUG\n",
    "    if DEBUG > 3:\n",
    "        plt.figure(f\"{index}- Smooth and acc variation\")\n",
    "\n",
    "    # Smoothing each acc axis\n",
    "    axis = ('x', 'y', 'z')\n",
    "    for xyz in axis:\n",
    "        acc_smooth_xyz = f\"acc_smooth_{xyz}\"\n",
    "        acc_derivative_xyz = f\"acc_derivative_{xyz}\"\n",
    "        # Smooth acc on xyz axis\n",
    "        data[acc_smooth_xyz] = data[f\"acc_{xyz}\"].rolling(round(0.2*frequency), win_type=\"hamming\", center=True).sum()\n",
    "        # compute derivative of each axis\n",
    "        data[acc_derivative_xyz] = abs(data[acc_smooth_xyz].shift(1) - data[acc_smooth_xyz].shift(-1))\n",
    "        if DEBUG > 5:\n",
    "            plt.plot(data.time_ms, data[acc_smooth_xyz], label=acc_smooth_xyz)\n",
    "\n",
    "    # sum of derivatives of each axis\n",
    "    data[\"acc_sum\"] = data[\"acc_derivative_x\"] + data[\"acc_derivative_y\"] + data[\"acc_derivative_z\"]\n",
    "    data[\"acc_sum_smoth\"] = data[\"acc_sum\"].rolling(round(0.8*frequency), win_type=\"hamming\", center=True).sum() \\\n",
    "                            * 2 / round(0.8*frequency)\n",
    "\n",
    "\n",
    "    # If DEBUG\n",
    "    if DEBUG > 3:\n",
    "        plt.plot(data.time_ms, data[\"acc_sum\"], label=\"acc_sum\")\n",
    "        plt.plot(data.time_ms, data[\"acc_sum_smoth\"], label=\"acc_sum_smoth\")\n",
    "        plt.tight_layout()\n",
    "        plt.legend()\n",
    "        plt.show()\n",
    "\n",
    "    #\n",
    "    # ##################################################################\n",
    "    # skip beginning and end of files\n",
    "    # Labels\n",
    "    # ##################################################################\n",
    "    data.drop(range(SKIP_BEG_SEC*frequency), inplace=True)\n",
    "    data.index = range(data.shape[0])\n",
    "\n",
    "    # Ensure that we found the resting state\n",
    "    i0_set_rest = data[data[\"acc_sum_smoth\"] < THRESHOLD].index[0]\n",
    "    data.drop(data.index[range(i0_set_rest)], inplace=True)      # remove beginning with noise\n",
    "    data.index = range(data.shape[0])\n",
    "    i0_set_rest = 0\n",
    "    # Label until the end of first rest\n",
    "    i1_rest_walk = data.loc[data.index > i0_set_rest + SKIP_CHANGE_SEC*frequency, \"acc_sum_smoth\"][data[\"acc_sum_smoth\"] > THRESHOLD].index[0]\n",
    "    data.loc[data.index <= i1_rest_walk, \"labels\"] = LABELS[\"standing\"]\n",
    "    # Label until the end of first walking\n",
    "    i2_walk_rest = data.loc[data.index > i1_rest_walk + SKIP_CHANGE_SEC*frequency, \"acc_sum_smoth\"][data[\"acc_sum_smoth\"] < THRESHOLD].index[0]\n",
    "    data.loc[(i1_rest_walk <= data.index) & (data.index < i2_walk_rest), \"labels\"] = LABELS[tiredness_state]\n",
    "    # Label until the turn\n",
    "    i3_rest_turn = data.loc[data.index > i2_walk_rest + SKIP_CHANGE_SEC*frequency, \"acc_sum_smoth\"][data[\"acc_sum_smoth\"] > THRESHOLD].index[0]\n",
    "    data.loc[(i2_walk_rest <= data.index) & (data.index < i3_rest_turn), \"labels\"] = LABELS[\"standing\"]\n",
    "    # Label until rest\n",
    "    i4_turn_rest = data.loc[data.index > i3_rest_turn + SKIP_CHANGE_SEC*frequency, \"acc_sum_smoth\"][data[\"acc_sum_smoth\"] < THRESHOLD].index[0]\n",
    "    data.loc[(i3_rest_turn <= data.index) & (data.index < i4_turn_rest), \"labels\"] = LABELS[\"none\"]\n",
    "    # Label until 2nd walk\n",
    "    i5_rest_walk = data.loc[data.index > i4_turn_rest + SKIP_CHANGE_SEC*frequency, \"acc_sum_smoth\"][data[\"acc_sum_smoth\"] > THRESHOLD].index[0]\n",
    "    data.loc[(i4_turn_rest <= data.index) & (data.index < i5_rest_walk), \"labels\"] = LABELS[\"standing\"]\n",
    "    # Label until 2nd rest\n",
    "    i6_walk_rest = data.loc[data.index > i5_rest_walk + SKIP_CHANGE_SEC*frequency, \"acc_sum_smoth\"][data[\"acc_sum_smoth\"] < THRESHOLD].index[0]\n",
    "    data.loc[(i5_rest_walk <= data.index) & (data.index < i6_walk_rest), \"labels\"] = LABELS[tiredness_state]\n",
    "    # Label until noise\n",
    "    i7_rest_noise = data.loc[data.index > i6_walk_rest + SKIP_CHANGE_SEC*frequency, \"acc_sum_smoth\"][data[\"acc_sum_smoth\"] > THRESHOLD].index[0] - 10\n",
    "    data.loc[(i6_walk_rest <= data.index) & (data.index < i7_rest_noise), \"labels\"] = LABELS[\"standing\"]\n",
    "    # Drop end part\n",
    "    data.drop(data.loc[(i7_rest_noise <= data.index)].index, inplace=True)\n",
    "\n",
    "    # Collect indexes\n",
    "    split_indexes = [i0_set_rest, i1_rest_walk, i2_walk_rest, i3_rest_turn, i4_turn_rest,\n",
    "                     i5_rest_walk, i6_walk_rest, i7_rest_noise]\n",
    "\n",
    "    if DEBUG > 1:\n",
    "        print(split_indexes)\n",
    "    if DEBUG > 5:\n",
    "        print(data[\"labels\"].sample(10))\n",
    "\n",
    "    # Plots\n",
    "    if DEBUG > 2:\n",
    "        plt.figure(f\"{index}- Sum of variation\")\n",
    "        plt.plot(data.time_ms, data[\"acc_sum\"], label=\"acc_sum\")\n",
    "        plt.plot(data.time_ms, data[\"acc_sum_smoth\"], label=\"acc_sum_smoth\")\n",
    "        plt.plot(data.time_ms, data[\"labels\"], label=\"labels\")\n",
    "        plt.tight_layout()\n",
    "        plt.legend()\n",
    "        # plt.show()\n",
    "\n",
    "    # Split each part\n",
    "    split_frame = []\n",
    "    for ind_low, ind_high in zip(split_indexes[:-1], split_indexes[1:]):\n",
    "        split_frame.append({\"label\": data[\"labels\"].iloc[ind_low],\n",
    "                            \"frame\": data[(ind_low <= data.index) & (data.index < ind_high)]})\n",
    "        if DEBUG > 6:\n",
    "            print(\"ind low and high : \", ind_low, ind_high, data.shape)\n",
    "            print(data[\"labels\"].iloc[ind_low])\n",
    "\n",
    "    return split_frame, frequency\n"
   ]
  },
  {
   "cell_type": "code",
   "execution_count": 6,
   "metadata": {},
   "outputs": [
    {
     "name": "stderr",
     "output_type": "stream",
     "text": [
      "INFO:root:Setup section\n",
      "INFO:root:found 18 files in folder D:/Drive/Singapore/Courses/CS6206-HCI Human Computer Interaction/Project/Data\n"
     ]
    }
   ],
   "source": [
    "\n",
    "\n",
    "\n",
    "# #######################################################################\n",
    "# #######################          SETUP          #######################\n",
    "# #######################################################################\n",
    "# todo add label for walk speed  standing/slow/medium/fast\n",
    "\n",
    "# Logging Settings\n",
    "logging.basicConfig(level=logging.INFO)\n",
    "logging.info(\"Setup section\")\n",
    "\n",
    "# Folder and Files\n",
    "folder = \"D:/Drive/Singapore/Courses/CS6206-HCI Human Computer Interaction/Project/Data\"\n",
    "os.chdir(folder)\n",
    "files = [f for f in os.listdir(folder) if f.endswith(\".csv\")]\n",
    "logging.info(f\"found {len(files)} files in folder {folder}\")\n",
    "\n",
    "# Holders:\n",
    "all_frames = []\n",
    "frequencies = []\n"
   ]
  },
  {
   "cell_type": "code",
   "execution_count": 7,
   "metadata": {},
   "outputs": [
    {
     "name": "stdout",
     "output_type": "stream",
     "text": [
      "\n",
      " *** File number 0 ***\n"
     ]
    },
    {
     "name": "stderr",
     "output_type": "stream",
     "text": [
      "INFO:root:Printing section\n",
      "INFO:root:Feature engineering section\n"
     ]
    },
    {
     "name": "stdout",
     "output_type": "stream",
     "text": [
      "data loaded\n",
      "(4668, 19)\n",
      "[0, 314, 1971, 2079, 2160, 2241, 3842, 4192]\n",
      "(4192, 27)\n",
      "data cleaned\n",
      "\n",
      " *** File number 1 ***\n",
      "data loaded"
     ]
    },
    {
     "name": "stderr",
     "output_type": "stream",
     "text": [
      "INFO:root:Printing section\n",
      "INFO:root:Feature engineering section\n"
     ]
    },
    {
     "name": "stdout",
     "output_type": "stream",
     "text": [
      "\n",
      "(4905, 19)\n",
      "[0, 371, 2094, 2196, 2333, 2414, 3974, 4411]\n",
      "(4411, 27)\n",
      "data cleaned\n",
      "\n",
      " *** File number 2 ***\n",
      "data loaded"
     ]
    },
    {
     "name": "stderr",
     "output_type": "stream",
     "text": [
      "INFO:root:Printing section\n",
      "INFO:root:Feature engineering section\n"
     ]
    },
    {
     "name": "stdout",
     "output_type": "stream",
     "text": [
      "\n",
      "(4868, 19)\n",
      "[0, 382, 2099, 2186, 2326, 2434, 4104, 4459]\n",
      "(4459, 27)\n",
      "data cleaned\n",
      "\n",
      " *** File number 3 ***\n",
      "data loaded"
     ]
    },
    {
     "name": "stderr",
     "output_type": "stream",
     "text": [
      "INFO:root:Printing section\n",
      "INFO:root:Feature engineering section\n"
     ]
    },
    {
     "name": "stdout",
     "output_type": "stream",
     "text": [
      "\n",
      "(6189, 19)\n",
      "[0, 522, 2640, 2905, 3055, 3390, 5425, 5796]\n",
      "(5796, 27)\n",
      "data cleaned\n",
      "\n",
      " *** File number 4 ***\n",
      "data loaded\n"
     ]
    },
    {
     "name": "stderr",
     "output_type": "stream",
     "text": [
      "INFO:root:Printing section\n",
      "INFO:root:Feature engineering section\n"
     ]
    },
    {
     "name": "stdout",
     "output_type": "stream",
     "text": [
      "(5278, 19)\n",
      "[0, 449, 2112, 2334, 2548, 2768, 4395, 4827]\n",
      "(4827, 27)\n",
      "data cleaned\n",
      "\n",
      " *** File number 5 ***\n",
      "data loaded"
     ]
    },
    {
     "name": "stderr",
     "output_type": "stream",
     "text": [
      "INFO:root:Printing section\n",
      "INFO:root:Feature engineering section\n"
     ]
    },
    {
     "name": "stdout",
     "output_type": "stream",
     "text": [
      "\n",
      "(6223, 19)\n",
      "[0, 437, 2589, 2850, 3076, 3366, 5452, 5694]\n",
      "(5694, 27)\n",
      "data cleaned\n",
      "\n",
      " *** File number 6 ***\n",
      "data loaded"
     ]
    },
    {
     "name": "stderr",
     "output_type": "stream",
     "text": [
      "INFO:root:Printing section\n",
      "INFO:root:Feature engineering section\n"
     ]
    },
    {
     "name": "stdout",
     "output_type": "stream",
     "text": [
      "\n",
      "(5594, 19)\n",
      "[0, 276, 2240, 2541, 2792, 2926, 4885, 5128]\n",
      "(5128, 27)\n",
      "data cleaned\n",
      "\n",
      " *** File number 7 ***\n",
      "data loaded"
     ]
    },
    {
     "name": "stderr",
     "output_type": "stream",
     "text": [
      "INFO:root:Printing section\n",
      "INFO:root:Feature engineering section\n"
     ]
    },
    {
     "name": "stdout",
     "output_type": "stream",
     "text": [
      "\n",
      "(4999, 19)\n",
      "[0, 286, 2018, 2153, 2386, 2612, 4257, 4570]\n",
      "(4570, 27)\n",
      "data cleaned\n",
      "\n",
      " *** File number 8 ***\n",
      "data loaded"
     ]
    },
    {
     "name": "stderr",
     "output_type": "stream",
     "text": [
      "INFO:root:Printing section\n",
      "INFO:root:Feature engineering section\n"
     ]
    },
    {
     "name": "stdout",
     "output_type": "stream",
     "text": [
      "\n",
      "(6152, 19)\n",
      "[0, 409, 2622, 2866, 3088, 3254, 5348, 5701]\n",
      "(5701, 27)\n",
      "data cleaned\n",
      "\n",
      " *** File number 9 ***\n",
      "data loaded"
     ]
    },
    {
     "name": "stderr",
     "output_type": "stream",
     "text": [
      "INFO:root:Printing section\n",
      "INFO:root:Feature engineering section\n"
     ]
    },
    {
     "name": "stdout",
     "output_type": "stream",
     "text": [
      "\n",
      "(4955, 19)\n",
      "[0, 250, 1886, 2180, 2436, 2627, 4233, 4538]\n",
      "(4538, 27)\n",
      "data cleaned\n",
      "\n",
      " *** File number 10 ***\n",
      "data loaded"
     ]
    },
    {
     "name": "stderr",
     "output_type": "stream",
     "text": [
      "INFO:root:Printing section\n",
      "INFO:root:Feature engineering section\n"
     ]
    },
    {
     "name": "stdout",
     "output_type": "stream",
     "text": [
      "\n",
      "(6027, 19)\n",
      "[0, 309, 2451, 2699, 2985, 3228, 5313, 5575]\n",
      "(5575, 27)\n",
      "data cleaned\n",
      "\n",
      " *** File number 11 ***\n",
      "data loaded"
     ]
    },
    {
     "name": "stderr",
     "output_type": "stream",
     "text": [
      "INFO:root:Printing section\n",
      "INFO:root:Feature engineering section\n"
     ]
    },
    {
     "name": "stdout",
     "output_type": "stream",
     "text": [
      "\n",
      "(5999, 19)\n",
      "[0, 315, 2211, 2658, 2910, 3280, 5185, 5622]\n",
      "(5622, 27)\n",
      "data cleaned\n",
      "\n",
      " *** File number 12 ***\n",
      "data loaded"
     ]
    },
    {
     "name": "stderr",
     "output_type": "stream",
     "text": [
      "INFO:root:Printing section\n",
      "INFO:root:Feature engineering section\n"
     ]
    },
    {
     "name": "stdout",
     "output_type": "stream",
     "text": [
      "\n",
      "(5368, 19)\n",
      "[0, 285, 2191, 2475, 2679, 2928, 4721, 4979]\n",
      "(4979, 27)\n",
      "data cleaned\n",
      "\n",
      " *** File number 13 ***\n",
      "data loaded"
     ]
    },
    {
     "name": "stderr",
     "output_type": "stream",
     "text": [
      "INFO:root:Printing section\n",
      "INFO:root:Feature engineering section\n"
     ]
    },
    {
     "name": "stdout",
     "output_type": "stream",
     "text": [
      "\n",
      "(4791, 19)\n",
      "[0, 281, 1924, 2120, 2393, 2639, 4219, 4385]\n",
      "(4385, 27)\n",
      "data cleaned\n",
      "\n",
      " *** File number 14 ***\n",
      "data loaded"
     ]
    },
    {
     "name": "stderr",
     "output_type": "stream",
     "text": [
      "INFO:root:Printing section\n",
      "INFO:root:Feature engineering section\n"
     ]
    },
    {
     "name": "stdout",
     "output_type": "stream",
     "text": [
      "\n",
      "(5941, 19)\n",
      "[0, 335, 2341, 2641, 2913, 3156, 5196, 5523]\n",
      "(5523, 27)\n",
      "data cleaned\n",
      "\n",
      " *** File number 15 ***\n",
      "data loaded"
     ]
    },
    {
     "name": "stderr",
     "output_type": "stream",
     "text": [
      "INFO:root:Printing section\n",
      "INFO:root:Feature engineering section\n"
     ]
    },
    {
     "name": "stdout",
     "output_type": "stream",
     "text": [
      "\n",
      "(5000, 19)\n",
      "[0, 214, 1878, 2110, 2375, 2605, 4287, 4600]\n",
      "(4600, 27)\n",
      "data cleaned\n",
      "\n",
      " *** File number 16 ***\n",
      "data loaded\n"
     ]
    },
    {
     "name": "stderr",
     "output_type": "stream",
     "text": [
      "INFO:root:Printing section\n",
      "INFO:root:Feature engineering section\n"
     ]
    },
    {
     "name": "stdout",
     "output_type": "stream",
     "text": [
      "(5966, 19)\n",
      "[0, 258, 2259, 2654, 2918, 3200, 5254, 5547]\n",
      "(5547, 27)\n",
      "data cleaned\n",
      "\n",
      " *** File number 17 ***\n",
      "data loaded"
     ]
    },
    {
     "name": "stderr",
     "output_type": "stream",
     "text": [
      "INFO:root:Printing section\n",
      "INFO:root:Feature engineering section\n"
     ]
    },
    {
     "name": "stdout",
     "output_type": "stream",
     "text": [
      "\n",
      "(5198, 19)\n",
      "[0, 215, 2000, 2305, 2524, 2775, 4604, 4794]\n",
      "(4794, 27)\n",
      "data cleaned\n"
     ]
    }
   ],
   "source": [
    "\n",
    "# #######################################################################\n",
    "# #######################          MAIN           #######################\n",
    "# #######################################################################\n",
    "# for index, file_name in enumerate([files[5], files[17]]):\n",
    "for index, file_name in enumerate(files):\n",
    "\n",
    "    if index not in (20,):\n",
    "        # Fixing early experiments\n",
    "        if index == 0:              THRESHOLD = 5.67\n",
    "        elif index == 3:            THRESHOLD = 3.5\n",
    "        elif index in range(5):     THRESHOLD = 4\n",
    "        else:                       THRESHOLD = 2\n",
    "\n",
    "        # if index in (0, 3): DEBUG = 4\n",
    "        # else:  DEBUG = 0\n",
    "\n",
    "        state = \"none\"\n",
    "        if index in range(0, 6):      state = \"walk_rested\"\n",
    "        elif index in range(6, 12):   state = \"walk_tired\"\n",
    "        elif index in range(12, 18):  state = \"walk_very_tired\"\n",
    "\n",
    "        print(f\"\\n *** File number {index} ***\")\n",
    "        frame = load_csv(file_name)\n",
    "        print(\"data loaded\")\n",
    "        print(frame.shape)\n",
    "        split_frame, frequency = clean_data(frame, state)\n",
    "        print(frame.shape)\n",
    "        print(\"data cleaned\")\n",
    "\n",
    "        all_frames.extend(split_frame)\n",
    "        frequencies.append(frequency)\n",
    "\n",
    "freq = sum(frequencies) / len(frequencies)\n",
    "\n",
    "# whyyyyyy is plt. blocking...\n",
    "plt.show()\n",
    "plt.close(\"all\")\n"
   ]
  },
  {
   "cell_type": "code",
   "execution_count": 8,
   "metadata": {},
   "outputs": [
    {
     "name": "stdout",
     "output_type": "stream",
     "text": [
      "\n",
      "\n",
      "Preprocessing done, continuing on single dataset extraction\n",
      "len(all_frames) 126\n"
     ]
    }
   ],
   "source": [
    "\n",
    "print(\"\\n\")\n",
    "print(\"Preprocessing done, continuing on single dataset extraction\")\n",
    "print(\"len(all_frames)\", len(all_frames))\n",
    "# pprint(all_frames)\n",
    "\n",
    "# Setup\n",
    "col_to_plot = {1: [\"acc_x\", \"acc_y\", \"acc_z\"],\n",
    "               2: [\"acc_derivative_x\", \"acc_derivative_y\", \"acc_derivative_z\"],\n",
    "               3: [\"acc_sum\", \"acc_sum_smoth\"],\n",
    "               4: [\"gyro_x\", \"gyro_y\", \"gyro_z\"]}\n"
   ]
  },
  {
   "cell_type": "code",
   "execution_count": 9,
   "metadata": {},
   "outputs": [
    {
     "name": "stderr",
     "output_type": "stream",
     "text": [
      "C:\\Anaconda3\\lib\\site-packages\\ipykernel_launcher.py:13: DeprecationWarning: object of type <class 'float'> cannot be safely interpreted as an integer.\n",
      "  del sys.path[0]\n"
     ]
    },
    {
     "ename": "TypeError",
     "evalue": "bad operand type for abs(): 'tuple'",
     "output_type": "error",
     "traceback": [
      "\u001b[1;31m---------------------------------------------------------------------------\u001b[0m",
      "\u001b[1;31mTypeError\u001b[0m                                 Traceback (most recent call last)",
      "\u001b[1;32m<ipython-input-9-85f587eeef0f>\u001b[0m in \u001b[0;36m<module>\u001b[1;34m()\u001b[0m\n\u001b[0;32m     19\u001b[0m             \u001b[0mstate\u001b[0m \u001b[1;33m=\u001b[0m \u001b[0mlist\u001b[0m\u001b[1;33m(\u001b[0m\u001b[0mLABELS\u001b[0m\u001b[1;33m.\u001b[0m\u001b[0mkeys\u001b[0m\u001b[1;33m(\u001b[0m\u001b[1;33m)\u001b[0m\u001b[1;33m)\u001b[0m\u001b[1;33m[\u001b[0m\u001b[0mlist\u001b[0m\u001b[1;33m(\u001b[0m\u001b[0mLABELS\u001b[0m\u001b[1;33m.\u001b[0m\u001b[0mvalues\u001b[0m\u001b[1;33m(\u001b[0m\u001b[1;33m)\u001b[0m\u001b[1;33m)\u001b[0m\u001b[1;33m.\u001b[0m\u001b[0mindex\u001b[0m\u001b[1;33m(\u001b[0m\u001b[0mdat\u001b[0m\u001b[1;33m[\u001b[0m\u001b[1;34m'label'\u001b[0m\u001b[1;33m]\u001b[0m\u001b[1;33m)\u001b[0m\u001b[1;33m]\u001b[0m\u001b[1;33m\u001b[0m\u001b[0m\n\u001b[0;32m     20\u001b[0m             \u001b[0mplt\u001b[0m\u001b[1;33m.\u001b[0m\u001b[0mfigure\u001b[0m\u001b[1;33m(\u001b[0m\u001b[1;34mf\"index {index}: {state} - FFT data - {col_to_plot[i]}\"\u001b[0m\u001b[1;33m)\u001b[0m\u001b[1;33m\u001b[0m\u001b[0m\n\u001b[1;32m---> 21\u001b[1;33m             \u001b[0mplt\u001b[0m\u001b[1;33m.\u001b[0m\u001b[0mplot\u001b[0m\u001b[1;33m(\u001b[0m\u001b[1;33m[\u001b[0m\u001b[0mabs\u001b[0m\u001b[1;33m(\u001b[0m\u001b[0mdat\u001b[0m\u001b[1;33m[\u001b[0m\u001b[1;34m\"fft\"\u001b[0m\u001b[1;33m]\u001b[0m\u001b[1;33m[\u001b[0m\u001b[0mx\u001b[0m\u001b[1;33m]\u001b[0m\u001b[1;33m)\u001b[0m \u001b[1;32mfor\u001b[0m \u001b[0mx\u001b[0m \u001b[1;32min\u001b[0m \u001b[0mcol_to_plot\u001b[0m\u001b[1;33m[\u001b[0m\u001b[0mi\u001b[0m\u001b[1;33m]\u001b[0m\u001b[1;33m]\u001b[0m\u001b[1;33m)\u001b[0m\u001b[1;33m\u001b[0m\u001b[0m\n\u001b[0m\u001b[0;32m     22\u001b[0m             \u001b[0mplt\u001b[0m\u001b[1;33m.\u001b[0m\u001b[0mlegend\u001b[0m\u001b[1;33m(\u001b[0m\u001b[0mcol_to_plot\u001b[0m\u001b[1;33m[\u001b[0m\u001b[0mi\u001b[0m\u001b[1;33m]\u001b[0m\u001b[1;33m)\u001b[0m\u001b[1;33m\u001b[0m\u001b[0m\n\u001b[0;32m     23\u001b[0m             \u001b[0mplt\u001b[0m\u001b[1;33m.\u001b[0m\u001b[0mtight_layout\u001b[0m\u001b[1;33m(\u001b[0m\u001b[1;33m)\u001b[0m\u001b[1;33m\u001b[0m\u001b[0m\n",
      "\u001b[1;32m<ipython-input-9-85f587eeef0f>\u001b[0m in \u001b[0;36m<listcomp>\u001b[1;34m(.0)\u001b[0m\n\u001b[0;32m     19\u001b[0m             \u001b[0mstate\u001b[0m \u001b[1;33m=\u001b[0m \u001b[0mlist\u001b[0m\u001b[1;33m(\u001b[0m\u001b[0mLABELS\u001b[0m\u001b[1;33m.\u001b[0m\u001b[0mkeys\u001b[0m\u001b[1;33m(\u001b[0m\u001b[1;33m)\u001b[0m\u001b[1;33m)\u001b[0m\u001b[1;33m[\u001b[0m\u001b[0mlist\u001b[0m\u001b[1;33m(\u001b[0m\u001b[0mLABELS\u001b[0m\u001b[1;33m.\u001b[0m\u001b[0mvalues\u001b[0m\u001b[1;33m(\u001b[0m\u001b[1;33m)\u001b[0m\u001b[1;33m)\u001b[0m\u001b[1;33m.\u001b[0m\u001b[0mindex\u001b[0m\u001b[1;33m(\u001b[0m\u001b[0mdat\u001b[0m\u001b[1;33m[\u001b[0m\u001b[1;34m'label'\u001b[0m\u001b[1;33m]\u001b[0m\u001b[1;33m)\u001b[0m\u001b[1;33m]\u001b[0m\u001b[1;33m\u001b[0m\u001b[0m\n\u001b[0;32m     20\u001b[0m             \u001b[0mplt\u001b[0m\u001b[1;33m.\u001b[0m\u001b[0mfigure\u001b[0m\u001b[1;33m(\u001b[0m\u001b[1;34mf\"index {index}: {state} - FFT data - {col_to_plot[i]}\"\u001b[0m\u001b[1;33m)\u001b[0m\u001b[1;33m\u001b[0m\u001b[0m\n\u001b[1;32m---> 21\u001b[1;33m             \u001b[0mplt\u001b[0m\u001b[1;33m.\u001b[0m\u001b[0mplot\u001b[0m\u001b[1;33m(\u001b[0m\u001b[1;33m[\u001b[0m\u001b[0mabs\u001b[0m\u001b[1;33m(\u001b[0m\u001b[0mdat\u001b[0m\u001b[1;33m[\u001b[0m\u001b[1;34m\"fft\"\u001b[0m\u001b[1;33m]\u001b[0m\u001b[1;33m[\u001b[0m\u001b[0mx\u001b[0m\u001b[1;33m]\u001b[0m\u001b[1;33m)\u001b[0m \u001b[1;32mfor\u001b[0m \u001b[0mx\u001b[0m \u001b[1;32min\u001b[0m \u001b[0mcol_to_plot\u001b[0m\u001b[1;33m[\u001b[0m\u001b[0mi\u001b[0m\u001b[1;33m]\u001b[0m\u001b[1;33m]\u001b[0m\u001b[1;33m)\u001b[0m\u001b[1;33m\u001b[0m\u001b[0m\n\u001b[0m\u001b[0;32m     22\u001b[0m             \u001b[0mplt\u001b[0m\u001b[1;33m.\u001b[0m\u001b[0mlegend\u001b[0m\u001b[1;33m(\u001b[0m\u001b[0mcol_to_plot\u001b[0m\u001b[1;33m[\u001b[0m\u001b[0mi\u001b[0m\u001b[1;33m]\u001b[0m\u001b[1;33m)\u001b[0m\u001b[1;33m\u001b[0m\u001b[0m\n\u001b[0;32m     23\u001b[0m             \u001b[0mplt\u001b[0m\u001b[1;33m.\u001b[0m\u001b[0mtight_layout\u001b[0m\u001b[1;33m(\u001b[0m\u001b[1;33m)\u001b[0m\u001b[1;33m\u001b[0m\u001b[0m\n",
      "\u001b[1;31mTypeError\u001b[0m: bad operand type for abs(): 'tuple'"
     ]
    }
   ],
   "source": [
    "# Compute fft on all subsets\n",
    "for index, dat in enumerate(all_frames):\n",
    "    if dat[\"label\"] != LABELS[\"none\"] and 0 < index < 3:\n",
    "\n",
    "        dat[\"fft\"] = {}\n",
    "        # frame = dat[\"frame\"]\n",
    "        for column in dat[\"frame\"].columns:\n",
    "\n",
    "            N = dat[\"frame\"][column].shape[0]\n",
    "            T = float(N) / freq\n",
    "            x = np.linspace(0.0, N * T, N)\n",
    "            yf = scipy.fftpack.fft(dat[\"frame\"][column])\n",
    "            xf = np.linspace(0.0, 1.0 / (2.0 * T), N / 2)\n",
    "\n",
    "            dat[\"fft\"][column] = xf, 2.0/N * np.abs(yf[:N//2])\n",
    "\n",
    "        # pprint(dat[\"fft\"][column])\n",
    "        for i in range(1, 4):\n",
    "            state = list(LABELS.keys())[list(LABELS.values()).index(dat['label'])]\n",
    "            plt.figure(f\"index {index}: {state} - FFT data - {col_to_plot[i]}\")\n",
    "            plt.plot([abs(dat[\"fft\"][x]) for x in col_to_plot[i]])\n",
    "            plt.legend(col_to_plot[i])\n",
    "            plt.tight_layout()\n",
    "\n",
    "        plt.draw()\n",
    "\n"
   ]
  },
  {
   "cell_type": "code",
   "execution_count": null,
   "metadata": {
    "collapsed": true
   },
   "outputs": [],
   "source": []
  }
 ],
 "metadata": {
  "kernelspec": {
   "display_name": "Python 3",
   "language": "python",
   "name": "python3"
  }
 },
 "nbformat": 4,
 "nbformat_minor": 1
}
